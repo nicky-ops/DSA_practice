{
 "cells": [
  {
   "cell_type": "markdown",
   "metadata": {},
   "source": []
  },
  {
   "cell_type": "markdown",
   "metadata": {},
   "source": [
    "Principles of designing algorithms, and the importance of analyzing algorithms in solving real-world problems."
   ]
  },
  {
   "cell_type": "markdown",
   "metadata": {},
   "source": [
    "#### Performance analysis of an algorithm"
   ]
  },
  {
   "cell_type": "markdown",
   "metadata": {},
   "source": [
    "##### Time Complexity\n",
    "The amount of time an algorithm will take to execute on a computer system to produce the output"
   ]
  },
  {
   "cell_type": "code",
   "execution_count": 7,
   "metadata": {},
   "outputs": [
    {
     "name": "stdout",
     "output_type": "stream",
     "text": [
      "index position for the element x is: 1\n"
     ]
    }
   ],
   "source": [
    "def linear_search(input_list, element):\n",
    "    for index, value in enumerate(input_list):\n",
    "        if value == element:\n",
    "            return index\n",
    "        \n",
    "    return -1\n",
    "\n",
    "input_list = [1, 2, 3, 4, 5, 6, 7, 8, 9, 10]\n",
    "element = 2\n",
    "print(\"index position for the element x is:\", linear_search(input_list, element))"
   ]
  },
  {
   "cell_type": "markdown",
   "metadata": {},
   "source": [
    "The **worst-case running time** of the algorithm is the upper-bound complexity; it is the maximum runtime required for an algorithm to execute for any given input. It guarantees that for any input data, the runtime required will not take more time as compared to the worst-case running time.\n",
    "\n",
    "The **average-case running time** is the average running time required for an algorithm to execute. We compute the average over the running time for all possible input values.\n",
    "$$\n",
    "T(n) = \\frac{1+2+3+\\dots+n}{n} = \\frac{n(n+1)}{2n}\n",
    "$$\n",
    "\n",
    "**Best-case running time** is the minimum time needed for an algorithm to run; it is the lower bound on the running time required for an algorithm."
   ]
  },
  {
   "cell_type": "markdown",
   "metadata": {},
   "source": [
    "##### Space complexity\n",
    "Estimates the memory requirement of an algorithm to execute it on a computer to produce the output as a function of input data."
   ]
  },
  {
   "cell_type": "code",
   "execution_count": 8,
   "metadata": {},
   "outputs": [
    {
     "name": "stdout",
     "output_type": "stream",
     "text": [
      "square numbers are: [4, 9, 16, 25]\n"
     ]
    }
   ],
   "source": [
    "def squares(n):\n",
    "    square_numbers = []\n",
    "    for number in n:\n",
    "        square_numbers.append(number * number)\n",
    "    return square_numbers\n",
    "\n",
    "nums = [2, 3, 4, 5]\n",
    "print(\"square numbers are:\", squares(nums))"
   ]
  },
  {
   "cell_type": "markdown",
   "metadata": {},
   "source": [
    "In the above code, the algorithm will require allocating memeory for the number of items (n) in the input list, hence the space requirement increases with input size. The space complexity of the algorithm becomes 0(n)."
   ]
  },
  {
   "cell_type": "markdown",
   "metadata": {},
   "source": [
    "##### Asymptotic notation\n",
    "For large input sizes, the rate of growth(order of growth) is very important. In asymptotic analysis, we analyze the efficiency of algorithms for large input sizes considering the higher order of growth and ignoring the multiplicative constants and lower-order terms.\n",
    "Common asymptotic notations used to calculate the running time complexity of an algorithm:\n",
    "\n",
    "**θ Notation:**\n",
    "It denotes the worst-case running time complexity with a **tight bound**.\n",
    "\n",
    "**Ο Notation:**\n",
    "It denotes the worst-case running time complexity with an **upper bound**, which ensures that the function never grows faster than the upper bound.\n",
    "\n",
    "**Ω Notation:**\n",
    "It denotes the **lower bound** of an algorithm’s running time. It measures the best amount of time to execute the algorithm."
   ]
  },
  {
   "cell_type": "markdown",
   "metadata": {},
   "source": [
    "##### Big O notation\n",
    "It characterizes the worst-case running time complexity, which is only the asymptotic upper bound of the function.\n",
    "Given a function F(n), the T(n) is a Big O of function F(n), and we define this as follows:\n",
    "$$T(n) = O(F(n))$$"
   ]
  },
  {
   "cell_type": "markdown",
   "metadata": {},
   "source": [
    "**Most common growth rates(from lowest to highest)**\n",
    "|**Time Complexity**|**Name**|\n",
    "|-------------------|--------|\n",
    "|O(1)               |Constant|\n",
    "|O(logn)            |Logarithmic|\n",
    "|O(n)               |Linear|\n",
    "|O(nlogn) |Linear-logarithmic|\n",
    "|O(n2) | Quadratic|\n",
    "|O(n3) | Cubic |\n",
    "|O(2n) | Exponential|"
   ]
  },
  {
   "cell_type": "code",
   "execution_count": 11,
   "metadata": {},
   "outputs": [
    {
     "name": "stdout",
     "output_type": "stream",
     "text": [
      "data\n",
      "data\n",
      "data\n",
      "data\n",
      "data\n",
      "data\n",
      "data\n",
      "data\n",
      "data\n",
      "data\n",
      "data\n",
      "data\n",
      "data\n",
      "data\n",
      "data\n",
      "data\n"
     ]
    }
   ],
   "source": [
    "n = 4\n",
    "for i in range(n):\n",
    "    for j in range(n):\n",
    "        print(\"data\")"
   ]
  },
  {
   "cell_type": "markdown",
   "metadata": {},
   "source": [
    "##### Amortized analysis\n",
    "We average the time required to execute a sequence of operations with all the operations of the algorithm. We analyze both the costly and less costly operations in order to analyze all the sequences of operations. 3 methods; **aggregate analysis**, **accounting method**, and **potential method**."
   ]
  },
  {
   "cell_type": "markdown",
   "metadata": {},
   "source": [
    "##### Computing the running time complexity of an algorithm\n",
    "1. Find the worst-case running complexity of the following Python snippet:"
   ]
  },
  {
   "cell_type": "code",
   "execution_count": 12,
   "metadata": {},
   "outputs": [
    {
     "name": "stdout",
     "output_type": "stream",
     "text": [
      "data\n",
      "data\n",
      "data\n",
      "data\n"
     ]
    }
   ],
   "source": [
    "# loop will run n times\n",
    "for i in range(n):\n",
    "    print(\"data\") # constant time"
   ]
  },
  {
   "cell_type": "markdown",
   "metadata": {},
   "source": [
    "The runtime for a loop, in general, takes the time taken by all statements in the loop, multiplied by the number of iterations.\n",
    "$$T(n) = constant time (c) * n = c*n = O(n)$$"
   ]
  },
  {
   "cell_type": "markdown",
   "metadata": {},
   "source": [
    "2. Find the time complexity of the following Python snippet:"
   ]
  },
  {
   "cell_type": "code",
   "execution_count": 13,
   "metadata": {},
   "outputs": [
    {
     "name": "stdout",
     "output_type": "stream",
     "text": [
      "data\n",
      "data\n",
      "data\n",
      "data\n",
      "data\n",
      "data\n",
      "data\n",
      "data\n",
      "data\n",
      "data\n",
      "data\n",
      "data\n",
      "data\n",
      "data\n",
      "data\n",
      "data\n"
     ]
    }
   ],
   "source": [
    "for i in range(n): # run for n times\n",
    "    for j in range(n): # run for n times\n",
    "        print(\"data\") # constant time  "
   ]
  },
  {
   "cell_type": "markdown",
   "metadata": {},
   "source": [
    "O(n^{2}). The print statement will be executed n^2 times, n times for the inner loop and for each iteration of the outer loop, the inner loop is executed."
   ]
  },
  {
   "cell_type": "markdown",
   "metadata": {},
   "source": [
    "3. Find the time complexity of the following Python snippet:"
   ]
  },
  {
   "cell_type": "code",
   "execution_count": 15,
   "metadata": {},
   "outputs": [
    {
     "name": "stdout",
     "output_type": "stream",
     "text": [
      "data\n",
      "data\n",
      "data\n"
     ]
    }
   ],
   "source": [
    "n = 10\n",
    "i = 1\n",
    "j = 0\n",
    "while i*i < n:\n",
    "    j = j + 1\n",
    "    i = i + 1\n",
    "    print(\"data\")"
   ]
  },
  {
   "cell_type": "markdown",
   "metadata": {},
   "source": [
    "O(√n). The loop will terminate based on the value of i; the loop will iterate based on the condition:\n",
    "$$i^2 <= n$$"
   ]
  },
  {
   "cell_type": "markdown",
   "metadata": {},
   "source": []
  }
 ],
 "metadata": {
  "kernelspec": {
   "display_name": "Python 3 (ipykernel)",
   "language": "python",
   "name": "python3"
  },
  "language_info": {
   "codemirror_mode": {
    "name": "ipython",
    "version": 3
   },
   "file_extension": ".py",
   "mimetype": "text/x-python",
   "name": "python",
   "nbconvert_exporter": "python",
   "pygments_lexer": "ipython3",
   "version": "3.12.4"
  }
 },
 "nbformat": 4,
 "nbformat_minor": 2
}
